{
 "cells": [
  {
   "cell_type": "markdown",
   "metadata": {},
   "source": [
    "### 화면 입출력"
   ]
  },
  {
   "cell_type": "markdown",
   "metadata": {},
   "source": [
    "#### 문자열 입출력"
   ]
  },
  {
   "cell_type": "code",
   "execution_count": 15,
   "metadata": {},
   "outputs": [
    {
     "name": "stdout",
     "output_type": "stream",
     "text": [
      "moebs\n",
      "moebs\n"
     ]
    }
   ],
   "source": [
    "str_1 = input()\n",
    "\n",
    "print(str_1)"
   ]
  },
  {
   "cell_type": "code",
   "execution_count": 16,
   "metadata": {},
   "outputs": [
    {
     "name": "stdout",
     "output_type": "stream",
     "text": [
      "이름을 입력하세요 : 정원호\n",
      "당신의 이름은 정원호 이군요\n"
     ]
    }
   ],
   "source": [
    "name = input('이름을 입력하세요 : ')\n",
    "\n",
    "print('당신의 이름은', name, '이군요')"
   ]
  },
  {
   "cell_type": "markdown",
   "metadata": {},
   "source": [
    "#### 정수형 입출력"
   ]
  },
  {
   "cell_type": "code",
   "execution_count": 26,
   "metadata": {},
   "outputs": [
    {
     "name": "stdout",
     "output_type": "stream",
     "text": [
      "정수를 입력하세요: 100\n"
     ]
    }
   ],
   "source": [
    "str_1 = input('정수를 입력하세요: ')\n",
    "\n",
    "i = int(str_1)   # string -> numeric "
   ]
  },
  {
   "cell_type": "code",
   "execution_count": 30,
   "metadata": {},
   "outputs": [
    {
     "name": "stdout",
     "output_type": "stream",
     "text": [
      "100\n",
      "<class 'str'>\n",
      "100 <class 'str'>\n",
      "입력한 수는 100\n",
      "100 <class 'int'>\n",
      "입력한 수는 100 type is <class 'int'>\n"
     ]
    }
   ],
   "source": [
    "print(str_1)\n",
    "print(type(str_1))\n",
    "\n",
    "#print('\\n')   # new-line (개행문자, 출바꿈문자)\n",
    "\n",
    "print(str_1, type(str_1))      # 문자열 출력\n",
    "print('입력한 수는' , str_1)\n",
    "\n",
    "#print('\\n')\n",
    "\n",
    "print(i, type(i))               # 정수 출력\n",
    "print('입력한 수는',i, 'type is', type(i))"
   ]
  },
  {
   "cell_type": "code",
   "execution_count": null,
   "metadata": {},
   "outputs": [],
   "source": [
    "#### 실수형 입출력"
   ]
  },
  {
   "cell_type": "code",
   "execution_count": 32,
   "metadata": {},
   "outputs": [
    {
     "name": "stdout",
     "output_type": "stream",
     "text": [
      "두 실수를 입력하세요: 2.0 3.0\n"
     ]
    }
   ],
   "source": [
    "str_1, str_2 = input('두 실수를 입력하세요: ').split()\n",
    "\n",
    "f_1 = float(str_1)\n",
    "f_2 = float(str_2)"
   ]
  },
  {
   "cell_type": "code",
   "execution_count": 36,
   "metadata": {},
   "outputs": [
    {
     "name": "stdout",
     "output_type": "stream",
     "text": [
      "입력한 두 수는 :\n",
      "두 수의 합은 :\n",
      "두 수의 곱은 :\n",
      "두 수의 차은 :\n"
     ]
    }
   ],
   "source": [
    "# Quiz_1\n",
    "\n",
    "\n",
    "print('입력한 두 수는 :',)\n",
    "print('두 수의 합은 :' , )\n",
    "print('두 수의 곱은 :' , )\n",
    "print('두 수의 차는 :' , )"
   ]
  },
  {
   "cell_type": "code",
   "execution_count": 68,
   "metadata": {},
   "outputs": [
    {
     "name": "stdout",
     "output_type": "stream",
     "text": [
      "세 실수를 입력하세요: 1 2 3\n",
      "세 수의 합은 : 6.0\n"
     ]
    }
   ],
   "source": [
    "# 세 수의 합 구하기\n",
    "\n",
    "str_1, str_2, str_3 = input('세 실수를 입력하세요: ').split()\n",
    "\n",
    "f_1 = float(str_1)\n",
    "f_2 = float(str_2)\n",
    "f_3 = float(str_3)\n",
    "\n",
    "print('세 수의 합은 :' , f_1 + f_2 + f_3)\n"
   ]
  },
  {
   "cell_type": "markdown",
   "metadata": {},
   "source": [
    "### 반복문 필요성"
   ]
  },
  {
   "cell_type": "code",
   "execution_count": 43,
   "metadata": {},
   "outputs": [
    {
     "name": "stdout",
     "output_type": "stream",
     "text": [
      "강원도 삼척시 중앙로 1\n",
      "강원도 삼척시 중앙로 2\n",
      "...............\n",
      "강원도 삼척시 중앙로 346\n"
     ]
    }
   ],
   "source": [
    "print('강원도 삼척시 중앙로 1')\n",
    "print('강원도 삼척시 중앙로 2')\n",
    "print('...............')\n",
    "print('강원도 삼척시 중앙로 346')"
   ]
  },
  {
   "cell_type": "code",
   "execution_count": 54,
   "metadata": {},
   "outputs": [
    {
     "name": "stdout",
     "output_type": "stream",
     "text": [
      "[1, 2, 3, 4, 5, 6, 7, 8, 9, 10]\n",
      "\n",
      "\n",
      "강원도 삼척시 중앙로 1\n",
      "강원도 삼척시 중앙로 2\n",
      "강원도 삼척시 중앙로 3\n",
      "강원도 삼척시 중앙로 4\n",
      "강원도 삼척시 중앙로 5\n",
      "강원도 삼척시 중앙로 6\n",
      "강원도 삼척시 중앙로 7\n",
      "강원도 삼척시 중앙로 8\n",
      "강원도 삼척시 중앙로 9\n",
      "강원도 삼척시 중앙로 10\n",
      "\n",
      "\n",
      "강원도 삼척시 중앙로 1\n",
      "강원도 삼척시 중앙로 2\n",
      "강원도 삼척시 중앙로 3\n",
      "강원도 삼척시 중앙로 4\n",
      "강원도 삼척시 중앙로 5\n",
      "강원도 삼척시 중앙로 6\n",
      "강원도 삼척시 중앙로 7\n",
      "강원도 삼척시 중앙로 8\n",
      "강원도 삼척시 중앙로 9\n",
      "강원도 삼척시 중앙로 10\n"
     ]
    }
   ],
   "source": [
    "address = list(range(1,11))\n",
    "\n",
    "print(address)\n",
    "print('\\n')\n",
    "\n",
    "for i in address: \n",
    "    print('강원도 삼척시 중앙로',i)\n",
    "\n",
    "print('\\n')    \n",
    "    \n",
    "for i in range(1, 11): \n",
    "    print('강원도 삼척시 중앙로',i)"
   ]
  },
  {
   "cell_type": "code",
   "execution_count": 69,
   "metadata": {},
   "outputs": [
    {
     "name": "stdout",
     "output_type": "stream",
     "text": [
      "[1, 3, 5, 7, 9]\n"
     ]
    }
   ],
   "source": [
    "#address = list(range(10))               # 0부터 10 미만 정수(10은 포함X)\n",
    "\n",
    "#address = list(range( 2, 6))            # 2, 3, 4, 5 (6은 포함X)\n",
    "\n",
    "#address = list(range(0, 10, 2))        # 0, 2, 4, 6, 8\n",
    "\n",
    "#address = list(range(10, 0, -1))       # 10, 9, 8, 7, ….,1\n",
    "\n",
    "address = list(range(1,10,2))           # 1, 3, 5, 7, 9 ( Quiz_2 ) \n",
    "\n",
    "\n",
    "print(address)"
   ]
  },
  {
   "cell_type": "code",
   "execution_count": null,
   "metadata": {},
   "outputs": [],
   "source": [
    "# Quiz_3. 짝수/홀수 번지만 출력\n",
    "\n",
    "for i in ???????: \n",
    "    print('강원도 삼척시 중앙로',i)\n"
   ]
  },
  {
   "attachments": {},
   "cell_type": "markdown",
   "metadata": {},
   "source": [
    "### 반복문 기본 구조\n",
    "\n",
    "#### for 변수 in 리스트(또는 튜플, 문자열):(콜론)\n",
    "#### (indent4칸)반복할 문장1\n",
    "#### (indent4칸)반복할 문장2"
   ]
  },
  {
   "cell_type": "code",
   "execution_count": 57,
   "metadata": {},
   "outputs": [
    {
     "name": "stdout",
     "output_type": "stream",
     "text": [
      "사랑하는\n",
      "mother\n",
      "사랑하는\n",
      "father\n",
      "사랑하는\n",
      "sister\n"
     ]
    }
   ],
   "source": [
    "for str_1 in ['mother','father','sister']: \n",
    "    print('사랑하는')\n",
    "    print(str_1)"
   ]
  },
  {
   "cell_type": "code",
   "execution_count": 63,
   "metadata": {},
   "outputs": [
    {
     "name": "stdout",
     "output_type": "stream",
     "text": [
      "사랑하는\n",
      "mother\n",
      "\n",
      "\n",
      "사랑하는\n",
      "father\n",
      "\n",
      "\n",
      "사랑하는\n",
      "sister\n",
      "\n",
      "\n"
     ]
    }
   ],
   "source": [
    "family_list = ['mother', 'father', 'sister'] \n",
    "\n",
    "for str_1 in family_list: \n",
    "    print('사랑하는')\n",
    "    print(str_1)\n",
    "    print('\\n')"
   ]
  },
  {
   "attachments": {},
   "cell_type": "markdown",
   "metadata": {},
   "source": [
    "#### 1. for 문장 끝에 :(콜론)을 빠뜨리지 않았는지 확인\n",
    "\n",
    "#### 2. for 다음 줄에 오는 반복할 코드의 들여쓰기(4칸) 확인 "
   ]
  },
  {
   "cell_type": "code",
   "execution_count": 62,
   "metadata": {
    "scrolled": false
   },
   "outputs": [
    {
     "ename": "SyntaxError",
     "evalue": "invalid syntax (<ipython-input-62-a9e02c864036>, line 3)",
     "output_type": "error",
     "traceback": [
      "\u001b[0;36m  File \u001b[0;32m\"<ipython-input-62-a9e02c864036>\"\u001b[0;36m, line \u001b[0;32m3\u001b[0m\n\u001b[0;31m    for str_1 in family_list     # 콜론 없어서 에러\u001b[0m\n\u001b[0m                                            ^\u001b[0m\n\u001b[0;31mSyntaxError\u001b[0m\u001b[0;31m:\u001b[0m invalid syntax\n"
     ]
    }
   ],
   "source": [
    "family_list = ['mother', 'father', 'sister'] \n",
    "\n",
    "for str_1 in family_list     # 콜론 없어서 에러\n",
    "print('사랑하는')            # indent error\n",
    "print(str_1)                  # indent error\n"
   ]
  },
  {
   "cell_type": "code",
   "execution_count": 64,
   "metadata": {},
   "outputs": [
    {
     "name": "stdout",
     "output_type": "stream",
     "text": [
      "사랑하는\n",
      "사랑하는\n",
      "사랑하는\n",
      "sister\n"
     ]
    }
   ],
   "source": [
    "family_list = ['mother', 'father', 'sister'] \n",
    "\n",
    "for str_1 in family_list:    \n",
    "    print('사랑하는')         \n",
    "print(str_1)                # 들여쓰기가 안되어서 반복x "
   ]
  },
  {
   "cell_type": "markdown",
   "metadata": {},
   "source": [
    "### 반복문 응용\n"
   ]
  },
  {
   "cell_type": "markdown",
   "metadata": {},
   "source": [
    "#### 합계계산"
   ]
  },
  {
   "cell_type": "code",
   "execution_count": 65,
   "metadata": {},
   "outputs": [
    {
     "name": "stdout",
     "output_type": "stream",
     "text": [
      "합계 :  55\n"
     ]
    }
   ],
   "source": [
    "total = 0                 # 변수 초기화\n",
    "\n",
    "for i in range(1, 11):   #  [1,2,3,4,5,6,7,8,9,10]\n",
    "    total = total + i     # 1 ~10 까지 합계 구하기\n",
    "    \n",
    "print('합계 : ', total)"
   ]
  },
  {
   "cell_type": "code",
   "execution_count": 67,
   "metadata": {},
   "outputs": [
    {
     "name": "stdout",
     "output_type": "stream",
     "text": [
      "누적합계 :  1\n",
      "누적합계 :  3\n",
      "누적합계 :  6\n",
      "누적합계 :  10\n",
      "누적합계 :  15\n",
      "누적합계 :  21\n",
      "누적합계 :  28\n",
      "누적합계 :  36\n",
      "누적합계 :  45\n",
      "누적합계 :  55\n"
     ]
    }
   ],
   "source": [
    "total = 0\n",
    "for i in [1,2,3,4,5,6,7,8,9,10]:  #  range(1, 11)\n",
    "    total = total + i    \n",
    "    print('누적합계 : ', total)"
   ]
  },
  {
   "cell_type": "code",
   "execution_count": 70,
   "metadata": {},
   "outputs": [],
   "source": [
    "# Quiz_4. 자연수 n을 입력 받아 n까지 합계 구하기 "
   ]
  },
  {
   "cell_type": "code",
   "execution_count": 75,
   "metadata": {},
   "outputs": [
    {
     "name": "stdout",
     "output_type": "stream",
     "text": [
      "정수를 입력하세요: 00\n",
      "합계 :  0\n"
     ]
    }
   ],
   "source": [
    "str_1 = input('정수를 입력하세요: ')\n",
    "n = int(str_1)\n",
    "\n",
    "total = 0\n",
    "for i in range(1, n+1): \n",
    "    total = total + i    \n",
    "print('합계 : ', total)"
   ]
  },
  {
   "cell_type": "markdown",
   "metadata": {},
   "source": [
    "#### Quiz_5\n",
    "\n",
    "#### 한 학급 5명의 영어/수학 성적이\n",
    "#### 아래와 같을 때, 학생 개인별 평균 점수를 구하고\n",
    "\n",
    "#### 평균점수 기준 1등과 5등의 점수를 구하세요  \n",
    "\n",
    "#### 영어성적 : 70, 85, 50, 95, 80\n",
    "#### 수학성적 : 85, 65, 85, 55, 75\n"
   ]
  },
  {
   "cell_type": "code",
   "execution_count": 74,
   "metadata": {},
   "outputs": [
    {
     "name": "stdout",
     "output_type": "stream",
     "text": [
      "평균점수  [77.5, 75.0, 67.5, 75.0, 77.5]\n",
      "\n",
      "\n",
      "최고 평균 점수 77.5\n",
      "\n",
      "\n",
      "최저 평균 점수 67.5\n"
     ]
    }
   ],
   "source": [
    "eng = [70, 85, 50, 95, 80] \n",
    "math = [85, 65, 85, 55, 75]\n",
    "average = [0, 0, 0, 0, 0]\n",
    "\n",
    "for i in range(0, 5):\n",
    "    average[i] = ( eng[i] + math[i] ) / 2.0\n",
    "\n",
    "print('평균점수 ',average)    \n",
    "\n",
    "print('\\n')\n",
    "\n",
    "print('최고 평균 점수', max(average))\n",
    "\n",
    "print('\\n')\n",
    "\n",
    "print('최저 평균 점수', min(average))"
   ]
  },
  {
   "cell_type": "markdown",
   "metadata": {},
   "source": [
    "#### Quiz_6\n",
    "\n",
    "#### Quiz_5 번에 \n",
    "\n",
    "#### 학생 2명 추가\n",
    "\n",
    "#### 국어 성적 추가\n",
    "\n",
    "#### 점수는 임의로넣으세요"
   ]
  },
  {
   "cell_type": "code",
   "execution_count": null,
   "metadata": {},
   "outputs": [],
   "source": []
  }
 ],
 "metadata": {
  "kernelspec": {
   "display_name": "Python [conda env:shared_env_py36]",
   "language": "python",
   "name": "conda-env-shared_env_py36-py"
  },
  "language_info": {
   "codemirror_mode": {
    "name": "ipython",
    "version": 3
   },
   "file_extension": ".py",
   "mimetype": "text/x-python",
   "name": "python",
   "nbconvert_exporter": "python",
   "pygments_lexer": "ipython3",
   "version": "3.6.12"
  }
 },
 "nbformat": 4,
 "nbformat_minor": 4
}
