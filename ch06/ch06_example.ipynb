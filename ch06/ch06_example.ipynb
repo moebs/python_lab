{
 "cells": [
  {
   "cell_type": "markdown",
   "metadata": {},
   "source": [
    "### 반복문 필요성"
   ]
  },
  {
   "cell_type": "code",
   "execution_count": 140,
   "metadata": {
    "scrolled": false
   },
   "outputs": [
    {
     "name": "stdout",
     "output_type": "stream",
     "text": [
      "강원도 삼척시 중앙로 1\n",
      "강원도 삼척시 중앙로 2\n",
      "강원도 삼척시 중앙로 3\n",
      "강원도 삼척시 중앙로 4\n",
      "강원도 삼척시 중앙로 5\n",
      "강원도 삼척시 중앙로 6\n",
      "강원도 삼척시 중앙로 7\n",
      "강원도 삼척시 중앙로 8\n",
      "강원도 삼척시 중앙로 9\n",
      "강원도 삼척시 중앙로 10\n",
      "강원도 삼척시 중앙로 11\n",
      "강원도 삼척시 중앙로 12\n",
      "강원도 삼척시 중앙로 13\n"
     ]
    }
   ],
   "source": [
    "# print('강원도 삼척시 중앙로',i)  ( 1 ≤ i < 14)\n",
    "\n",
    "for i in range(1, 14): \n",
    "    print('강원도 삼척시 중앙로',i)"
   ]
  },
  {
   "cell_type": "code",
   "execution_count": 72,
   "metadata": {},
   "outputs": [
    {
     "name": "stdout",
     "output_type": "stream",
     "text": [
      "강원도 삼척시 중앙로 1\n",
      "강원도 삼척시 중앙로 3\n",
      "강원도 삼척시 중앙로 5\n"
     ]
    }
   ],
   "source": [
    "# 짝수 or 홀수 번지\n",
    "\n",
    "for i in [2,4,6]: \n",
    "    print('강원도 삼척시 중앙로',i)\n",
    "\n",
    "for i in [1,3,5]: \n",
    "    print('강원도 삼척시 중앙로',i)\n",
    "\n",
    "#for i in range(): \n",
    "#    print('강원도 삼척시 중앙로',i)"
   ]
  },
  {
   "cell_type": "markdown",
   "metadata": {},
   "source": [
    "### 반복문 기본 구조"
   ]
  },
  {
   "cell_type": "code",
   "execution_count": 75,
   "metadata": {},
   "outputs": [
    {
     "name": "stdout",
     "output_type": "stream",
     "text": [
      "사랑하는 mother\n",
      "사랑하는 father\n",
      "사랑하는 sister\n"
     ]
    }
   ],
   "source": [
    "family_list = ['mother', 'father', 'sister'] \n",
    "\n",
    "for str_1 in family_list: \n",
    "    print('사랑하는 ', end='')\n",
    "    print(str_1)"
   ]
  },
  {
   "cell_type": "code",
   "execution_count": 77,
   "metadata": {},
   "outputs": [
    {
     "ename": "SyntaxError",
     "evalue": "invalid syntax (<ipython-input-77-8f9e118f874c>, line 3)",
     "output_type": "error",
     "traceback": [
      "\u001b[0;36m  File \u001b[0;32m\"<ipython-input-77-8f9e118f874c>\"\u001b[0;36m, line \u001b[0;32m3\u001b[0m\n\u001b[0;31m    for str_1 in family_list     # 콜론 없어서 에러\u001b[0m\n\u001b[0m                                            ^\u001b[0m\n\u001b[0;31mSyntaxError\u001b[0m\u001b[0;31m:\u001b[0m invalid syntax\n"
     ]
    }
   ],
   "source": [
    "family_list = ['mother', 'father', 'sister'] \n",
    "\n",
    "for str_1 in family_list           # 콜론 없어서 에러\n",
    "print('사랑하는 ', end='')          # indent error\n",
    "print(str_1)                  "
   ]
  },
  {
   "cell_type": "code",
   "execution_count": 78,
   "metadata": {},
   "outputs": [
    {
     "name": "stdout",
     "output_type": "stream",
     "text": [
      "사랑하는\n",
      "사랑하는\n",
      "사랑하는\n",
      "sister\n"
     ]
    }
   ],
   "source": [
    "family_list = ['mother', 'father', 'sister'] \n",
    "\n",
    "for str_1 in family_list:    \n",
    "    print('사랑하는')\n",
    "print(str_1)                   # 들여쓰기가 안되어서 반복x "
   ]
  },
  {
   "cell_type": "markdown",
   "metadata": {},
   "source": [
    "### 반복문 응용"
   ]
  },
  {
   "cell_type": "code",
   "execution_count": 79,
   "metadata": {},
   "outputs": [
    {
     "name": "stdout",
     "output_type": "stream",
     "text": [
      "합계 :  55\n"
     ]
    }
   ],
   "source": [
    "total = 0 # 변수 초기화\n",
    "for i in range(1, 11): \n",
    "    total = total + i    \n",
    "print('합계 : ', total)"
   ]
  },
  {
   "cell_type": "code",
   "execution_count": 80,
   "metadata": {},
   "outputs": [
    {
     "name": "stdout",
     "output_type": "stream",
     "text": [
      "합계를 구할 수를 입력하세요100\n",
      "합계 :  5050\n"
     ]
    }
   ],
   "source": [
    "str_1 = input('합계를 구할 수를 입력하세요')\n",
    "\n",
    "n = int(str_1)\n",
    "\n",
    "total = 0 # 변수 초기화\n",
    "for i in range(1, n+1): \n",
    "    total = total + i    \n",
    "print('합계 : ', total)"
   ]
  },
  {
   "cell_type": "markdown",
   "metadata": {},
   "source": [
    "### 이중 루프 필요성"
   ]
  },
  {
   "cell_type": "code",
   "execution_count": 141,
   "metadata": {},
   "outputs": [
    {
     "name": "stdout",
     "output_type": "stream",
     "text": [
      "강원도 삼척시 중앙로 1 - 1\n",
      "강원도 삼척시 중앙로 1 - 2\n",
      "강원도 삼척시 중앙로 1 - 3\n",
      "\n",
      "\n",
      "강원도 삼척시 중앙로 2 - 1\n",
      "강원도 삼척시 중앙로 2 - 2\n",
      "강원도 삼척시 중앙로 2 - 3\n",
      "\n",
      "\n",
      "강원도 삼척시 중앙로 3 - 1\n",
      "강원도 삼척시 중앙로 3 - 2\n",
      "강원도 삼척시 중앙로 3 - 3\n",
      "\n",
      "\n",
      "강원도 삼척시 중앙로 4 - 1\n",
      "강원도 삼척시 중앙로 4 - 2\n",
      "강원도 삼척시 중앙로 4 - 3\n",
      "\n",
      "\n",
      "강원도 삼척시 중앙로 5 - 1\n",
      "강원도 삼척시 중앙로 5 - 2\n",
      "강원도 삼척시 중앙로 5 - 3\n",
      "\n",
      "\n"
     ]
    }
   ],
   "source": [
    "# print('강원도 삼척시 중앙로 1-1')\n",
    "# print('강원도 삼척시 중앙로 1-2')\n",
    "# print('강원도 삼척시 중앙로 1-3')\n",
    "\n",
    "# print('강원도 삼척시 중앙로 5-1')\n",
    "# print('강원도 삼척시 중앙로 5-2')\n",
    "# print('강원도 삼척시 중앙로 5-3')\n",
    "\n",
    "# print('강원도 삼척시 중앙로',i,'-',j)\n",
    "# ( 1 ≤ i ≤ 346, i는 자연수 )\n",
    "# ( 1 ≤ j ≤ 3, j는 자연수 )\n",
    "\n",
    "for i in range(1, 5+1):        #  1 ≤ i < 5+1\n",
    "    for j in range(1, 3+1):    #   1 ≤ j ≤ 3\n",
    "        print('강원도 삼척시 중앙로',i,'-',j)    \n",
    "    print('\\n')"
   ]
  },
  {
   "cell_type": "markdown",
   "metadata": {},
   "source": [
    "### 이중 루프 응용 (구구단)"
   ]
  },
  {
   "cell_type": "code",
   "execution_count": 209,
   "metadata": {},
   "outputs": [
    {
     "name": "stdout",
     "output_type": "stream",
     "text": [
      "2 x 1 = 2\n",
      "2 x 2 = 4\n",
      "2 x 3 = 6\n",
      "2 x 4 = 8\n",
      "2 x 5 = 10\n",
      "2 x 6 = 12\n",
      "2 x 7 = 14\n",
      "2 x 8 = 16\n",
      "2 x 9 = 18\n",
      "\n",
      "\n",
      "4 x 1 = 4\n",
      "4 x 2 = 8\n",
      "4 x 3 = 12\n",
      "4 x 4 = 16\n",
      "4 x 5 = 20\n",
      "4 x 6 = 24\n",
      "4 x 7 = 28\n",
      "4 x 8 = 32\n",
      "4 x 9 = 36\n",
      "\n",
      "\n",
      "6 x 1 = 6\n",
      "6 x 2 = 12\n",
      "6 x 3 = 18\n",
      "6 x 4 = 24\n",
      "6 x 5 = 30\n",
      "6 x 6 = 36\n",
      "6 x 7 = 42\n",
      "6 x 8 = 48\n",
      "6 x 9 = 54\n",
      "\n",
      "\n",
      "8 x 1 = 8\n",
      "8 x 2 = 16\n",
      "8 x 3 = 24\n",
      "8 x 4 = 32\n",
      "8 x 5 = 40\n",
      "8 x 6 = 48\n",
      "8 x 7 = 56\n",
      "8 x 8 = 64\n",
      "8 x 9 = 72\n",
      "\n",
      "\n"
     ]
    }
   ],
   "source": [
    "for a in range( 2 , 9 + 1,2):\n",
    "    for b in range( 1 , 9 + 1):\n",
    "        print( a,'x',b,'=', (a*b) )\n",
    "    print('\\n')        "
   ]
  },
  {
   "cell_type": "markdown",
   "metadata": {},
   "source": [
    "### 파일 읽기/쓰기 형식"
   ]
  },
  {
   "cell_type": "code",
   "execution_count": 151,
   "metadata": {},
   "outputs": [
    {
     "name": "stdout",
     "output_type": "stream",
     "text": [
      "/home/moebs\r\n"
     ]
    }
   ],
   "source": [
    "!pwd"
   ]
  },
  {
   "cell_type": "code",
   "execution_count": 152,
   "metadata": {},
   "outputs": [],
   "source": [
    "file = open('my_name.txt', 'w')    # 파일을 쓰기 모드(w)로 열기\n",
    "\n",
    "name = file.write('shrek')      # 파일에 문자열 저장\n",
    "name = file.write('piona')      # 파일에 문자열 저장\n",
    "\n",
    "file.close()                       # 파일 닫기"
   ]
  },
  {
   "cell_type": "code",
   "execution_count": 10,
   "metadata": {},
   "outputs": [
    {
     "name": "stdout",
     "output_type": "stream",
     "text": [
      "9781788621755_ColorImages.pdf  ch03.ipynb\t     my_name.txt\r\n",
      "Desktop\t\t\t       chapter01.pdf\t     python_test\r\n",
      "Pictures\t\t       classification.ipynb  snap\r\n",
      "Public\t\t\t       cpu-gup.ipynb\t     test\r\n",
      "Templates\t\t       dir_a\t\t     thinclient_drives\r\n",
      "Untitled.ipynb\t\t       expunged\t\t     다운로드\r\n",
      "Untitled1.ipynb\t\t       hello.txt\t     문서\r\n",
      "Untitled2.ipynb\t\t       linux_test\t     비디오\r\n",
      "byte_of_python.pdf\t       mnt\t\t     사진\r\n"
     ]
    }
   ],
   "source": [
    "!ls"
   ]
  },
  {
   "cell_type": "code",
   "execution_count": 158,
   "metadata": {},
   "outputs": [
    {
     "name": "stdout",
     "output_type": "stream",
     "text": [
      "shrekpiona"
     ]
    }
   ],
   "source": [
    "!cat my_name.txt"
   ]
  },
  {
   "cell_type": "code",
   "execution_count": 159,
   "metadata": {},
   "outputs": [],
   "source": [
    "file = open('my_name.txt', 'w')    # 파일을 쓰기 모드(w)로 열기\n",
    "\n",
    "name = file.write('shrek')      # 파일에 문자열 저장\n",
    "name = file.write('\\n')\n",
    "name = file.write('piona')      # 파일에 문자열 저장\n",
    "\n",
    "file.close()   "
   ]
  },
  {
   "cell_type": "code",
   "execution_count": 160,
   "metadata": {},
   "outputs": [
    {
     "name": "stdout",
     "output_type": "stream",
     "text": [
      "shrek\r\n",
      "piona"
     ]
    }
   ],
   "source": [
    "!cat my_name.txt"
   ]
  },
  {
   "cell_type": "code",
   "execution_count": 162,
   "metadata": {},
   "outputs": [],
   "source": [
    "file = open('my_name.txt', 'w')    # 파일을 쓰기 모드(w)로 열기\n",
    "\n",
    "name = file.write('shrek\\n')       # 파일에 문자열 저장\n",
    "name = file.write('piona')         # 파일에 문자열 저장\n",
    "\n",
    "file.close()"
   ]
  },
  {
   "cell_type": "code",
   "execution_count": 163,
   "metadata": {},
   "outputs": [
    {
     "name": "stdout",
     "output_type": "stream",
     "text": [
      "shrek\r\n",
      "piona"
     ]
    }
   ],
   "source": [
    "!cat my_name.txt"
   ]
  },
  {
   "cell_type": "code",
   "execution_count": 164,
   "metadata": {},
   "outputs": [],
   "source": [
    "file = open('my_name.txt', 'a')    # 파일을 추가(add) 모드(w)로 열기\n",
    "\n",
    "name = file.write('olap')      # 파일에 문자열 저장\n",
    "\n",
    "file.close()"
   ]
  },
  {
   "cell_type": "code",
   "execution_count": 165,
   "metadata": {},
   "outputs": [
    {
     "name": "stdout",
     "output_type": "stream",
     "text": [
      "shrek\r\n",
      "pionaolap"
     ]
    }
   ],
   "source": [
    "!cat my_name.txt"
   ]
  },
  {
   "cell_type": "code",
   "execution_count": 166,
   "metadata": {},
   "outputs": [
    {
     "name": "stdout",
     "output_type": "stream",
     "text": [
      "shrek\n",
      "pionaolap\n"
     ]
    }
   ],
   "source": [
    "file = open('my_name.txt', 'r')    # 파일을 읽기 모드(r)로 열기\n",
    "name = file.read()                 # 파일 내용(문자열) 변수(name)저장\n",
    "file.close()                       # 파일 닫기\n",
    "\n",
    "print(name)"
   ]
  },
  {
   "cell_type": "markdown",
   "metadata": {},
   "source": [
    "### 파일 읽기/쓰기 응용(구구단)"
   ]
  },
  {
   "cell_type": "code",
   "execution_count": 92,
   "metadata": {},
   "outputs": [],
   "source": [
    "# 구구반 파일에 쓰기\n",
    "\n",
    "file = open('multiplicaion_table.txt', 'w')\n",
    "\n",
    "\n",
    "for a in range( 2 , 9 + 1):\n",
    "    for b in range( 1 , 9 + 1):\n",
    "        data= '%d x %d = %2d\\n' %(a, b, a*b)\n",
    "        file.write(data)\n",
    "#        file.write('\\n' )\n",
    "    file.write('\\n')"
   ]
  },
  {
   "cell_type": "code",
   "execution_count": 93,
   "metadata": {},
   "outputs": [
    {
     "name": "stdout",
     "output_type": "stream",
     "text": [
      "2 x 1 =  2\n",
      "2 x 2 =  4\n",
      "2 x 3 =  6\n",
      "2 x 4 =  8\n",
      "2 x 5 = 10\n",
      "2 x 6 = 12\n",
      "2 x 7 = 14\n",
      "2 x 8 = 16\n",
      "2 x 9 = 18\n",
      "\n",
      "3 x 1 =  3\n",
      "3 x 2 =  6\n",
      "3 x 3 =  9\n",
      "3 x 4 = 12\n",
      "3 x 5 = 15\n",
      "3 x 6 = 18\n",
      "3 x 7 = 21\n",
      "3 x 8 = 24\n",
      "3 x 9 = 27\n",
      "\n",
      "4 x 1 =  4\n",
      "4 x 2 =  8\n",
      "4 x 3 = 12\n",
      "4 x 4 = 16\n",
      "4 x 5 = 20\n",
      "4 x 6 = 24\n",
      "4 x 7 = 28\n",
      "4 x 8 = 32\n",
      "4 x 9 = 36\n",
      "\n",
      "5 x 1 =  5\n",
      "5 x 2 = 10\n",
      "5 x 3 = 15\n",
      "5 x 4 = 20\n",
      "5 x 5 = 25\n",
      "5 x 6 = 30\n",
      "5 x 7 = 35\n",
      "5 x 8 = 40\n",
      "5 x 9 = 45\n",
      "\n",
      "6 x 1 =  6\n",
      "6 x 2 = 12\n",
      "6 x 3 = 18\n",
      "6 x 4 = 24\n",
      "6 x 5 = 30\n",
      "6 x 6 = 36\n",
      "6 x 7 = 42\n",
      "6 x 8 = 48\n",
      "6 x 9 = 54\n",
      "\n",
      "7 x 1 =  7\n",
      "7 x 2 = 14\n",
      "7 x 3 = 21\n",
      "7 x 4 = 28\n",
      "7 x 5 = 35\n",
      "7 x 6 = 42\n",
      "7 x 7 = 49\n",
      "7 x 8 = 56\n",
      "7 x 9 = 63\n",
      "\n",
      "8 x 1 =  8\n",
      "8 x 2 = 16\n",
      "8 x 3 = 24\n",
      "8 x 4 = 32\n",
      "8 x 5 = 40\n",
      "8 x 6 = 48\n",
      "8 x 7 = 56\n",
      "8 x 8 = 64\n",
      "8 x 9 = 72\n",
      "\n",
      "9 x 1 =  9\n",
      "9 x 2 = 18\n",
      "9 x 3 = 27\n",
      "9 x 4 = 36\n",
      "9 x 5 = 45\n",
      "9 x 6 = 54\n",
      "9 x 7 = 63\n",
      "9 x 8 = 72\n",
      "9 x 9 = 81\n",
      "\n",
      "\n"
     ]
    }
   ],
   "source": [
    "# 구구반 파일 읽기\n",
    "\n",
    "file = open('multiplicaion_table.txt', 'r') \n",
    "multiplication = file.read()\n",
    "file.close()\n",
    "\n",
    "print(multiplication)"
   ]
  },
  {
   "cell_type": "markdown",
   "metadata": {},
   "source": [
    "### 파일 읽기/쓰기 응용 ( y = x^2 그래프 그리기)"
   ]
  },
  {
   "cell_type": "code",
   "execution_count": 168,
   "metadata": {},
   "outputs": [],
   "source": [
    "file = open('data.txt', 'w')\n",
    "\n",
    "for x in range(-5, 5+1):\n",
    "    y = x*x\n",
    "    data= '%d %d\\n' %(x, y)\n",
    "    file.write(data)\n",
    "\n",
    "file.close()"
   ]
  },
  {
   "cell_type": "code",
   "execution_count": 169,
   "metadata": {},
   "outputs": [
    {
     "name": "stdout",
     "output_type": "stream",
     "text": [
      "-5 25\r\n",
      "-4 16\r\n",
      "-3 9\r\n",
      "-2 4\r\n",
      "-1 1\r\n",
      "0 0\r\n",
      "1 1\r\n",
      "2 4\r\n",
      "3 9\r\n",
      "4 16\r\n",
      "5 25\r\n"
     ]
    }
   ],
   "source": [
    "!cat data.txt"
   ]
  },
  {
   "cell_type": "code",
   "execution_count": 174,
   "metadata": {},
   "outputs": [
    {
     "name": "stdout",
     "output_type": "stream",
     "text": [
      "-5 25\n",
      "-4 16\n",
      "-3 9\n",
      "-2 4\n",
      "-1 1\n",
      "0 0\n",
      "1 1\n",
      "2 4\n",
      "3 9\n",
      "4 16\n",
      "5 25\n",
      "\n",
      "<class 'str'>\n"
     ]
    },
    {
     "ename": "ValueError",
     "evalue": "invalid literal for int() with base 10: '-5 25\\n-4 16\\n-3 9\\n-2 4\\n-1 1\\n0 0\\n1 1\\n2 4\\n3 9\\n4 16\\n5 25\\n'",
     "output_type": "error",
     "traceback": [
      "\u001b[0;31m---------------------------------------------------------------------------\u001b[0m",
      "\u001b[0;31mValueError\u001b[0m                                Traceback (most recent call last)",
      "\u001b[0;32m<ipython-input-174-9b318d530cc9>\u001b[0m in \u001b[0;36m<module>\u001b[0;34m\u001b[0m\n\u001b[1;32m      7\u001b[0m \u001b[0mprint\u001b[0m\u001b[0;34m(\u001b[0m\u001b[0mdata\u001b[0m\u001b[0;34m)\u001b[0m\u001b[0;34m\u001b[0m\u001b[0;34m\u001b[0m\u001b[0m\n\u001b[1;32m      8\u001b[0m \u001b[0mprint\u001b[0m\u001b[0;34m(\u001b[0m\u001b[0mtype\u001b[0m\u001b[0;34m(\u001b[0m\u001b[0mdata\u001b[0m\u001b[0;34m)\u001b[0m\u001b[0;34m)\u001b[0m\u001b[0;34m\u001b[0m\u001b[0;34m\u001b[0m\u001b[0m\n\u001b[0;32m----> 9\u001b[0;31m \u001b[0mdata\u001b[0m \u001b[0;34m=\u001b[0m \u001b[0mint\u001b[0m\u001b[0;34m(\u001b[0m\u001b[0mdata\u001b[0m\u001b[0;34m)\u001b[0m\u001b[0;34m\u001b[0m\u001b[0;34m\u001b[0m\u001b[0m\n\u001b[0m",
      "\u001b[0;31mValueError\u001b[0m: invalid literal for int() with base 10: '-5 25\\n-4 16\\n-3 9\\n-2 4\\n-1 1\\n0 0\\n1 1\\n2 4\\n3 9\\n4 16\\n5 25\\n'"
     ]
    }
   ],
   "source": [
    "# 파일 읽기\n",
    "\n",
    "file = open('data.txt', 'r') \n",
    "data = file.read()\n",
    "file.close()\n",
    "\n",
    "print(data)"
   ]
  },
  {
   "cell_type": "code",
   "execution_count": 175,
   "metadata": {},
   "outputs": [
    {
     "name": "stdout",
     "output_type": "stream",
     "text": [
      "<class 'str'>\n"
     ]
    }
   ],
   "source": [
    "print(type(data))"
   ]
  },
  {
   "cell_type": "code",
   "execution_count": 176,
   "metadata": {},
   "outputs": [
    {
     "ename": "ValueError",
     "evalue": "invalid literal for int() with base 10: '-5 25\\n-4 16\\n-3 9\\n-2 4\\n-1 1\\n0 0\\n1 1\\n2 4\\n3 9\\n4 16\\n5 25\\n'",
     "output_type": "error",
     "traceback": [
      "\u001b[0;31m---------------------------------------------------------------------------\u001b[0m",
      "\u001b[0;31mValueError\u001b[0m                                Traceback (most recent call last)",
      "\u001b[0;32m<ipython-input-176-149921ecc351>\u001b[0m in \u001b[0;36m<module>\u001b[0;34m\u001b[0m\n\u001b[0;32m----> 1\u001b[0;31m \u001b[0mdata\u001b[0m \u001b[0;34m=\u001b[0m \u001b[0mint\u001b[0m\u001b[0;34m(\u001b[0m\u001b[0mdata\u001b[0m\u001b[0;34m)\u001b[0m\u001b[0;34m\u001b[0m\u001b[0;34m\u001b[0m\u001b[0m\n\u001b[0m",
      "\u001b[0;31mValueError\u001b[0m: invalid literal for int() with base 10: '-5 25\\n-4 16\\n-3 9\\n-2 4\\n-1 1\\n0 0\\n1 1\\n2 4\\n3 9\\n4 16\\n5 25\\n'"
     ]
    }
   ],
   "source": [
    "data = int(data)"
   ]
  },
  {
   "cell_type": "code",
   "execution_count": 172,
   "metadata": {},
   "outputs": [
    {
     "data": {
      "image/png": "[encoded data removed]",
      "text/plain": [
       "<Figure size 432x288 with 1 Axes>"
      ]
     },
     "metadata": {
      "needs_background": "light"
     },
     "output_type": "display_data"
    }
   ],
   "source": [
    "%matplotlib inline\n",
    "from matplotlib import pyplot as plt\n",
    " \n",
    "plt.plot(data)\n",
    "plt.show()"
   ]
  },
  {
   "cell_type": "code",
   "execution_count": 170,
   "metadata": {},
   "outputs": [
    {
     "name": "stdout",
     "output_type": "stream",
     "text": [
      "[-5.0, -4.0, -3.0, -2.0, -1.0, 0.0, 1.0, 2.0, 3.0, 4.0, 5.0]\n",
      "[25.0, 16.0, 9.0, 4.0, 1.0, 0.0, 1.0, 4.0, 9.0, 16.0, 25.0]\n"
     ]
    },
    {
     "data": {
      "image/png": "[encoded data removed]",
      "text/plain": [
       "<Figure size 432x288 with 1 Axes>"
      ]
     },
     "metadata": {
      "needs_background": "light"
     },
     "output_type": "display_data"
    }
   ],
   "source": [
    "file = open('data.txt', 'r')\n",
    "data = file.read().splitlines()\n",
    "\n",
    "data_x = []\n",
    "data_y = []\n",
    " \n",
    "for i in range(11):\n",
    "    x,y= data[i].split(' ')\n",
    "    data_x.append(float(x))\n",
    "    data_y.append(float(y))\n",
    "\n",
    "print(data_x)\n",
    "print(data_y)\n",
    "\n",
    "%matplotlib inline\n",
    "from matplotlib import pyplot as plt\n",
    " \n",
    "plt.plot(data_x, data_y)\n",
    "plt.show()"
   ]
  },
  {
   "cell_type": "code",
   "execution_count": 96,
   "metadata": {},
   "outputs": [],
   "source": [
    "file = open('data.txt', 'w')\n",
    "\n",
    "n=10\n",
    "\n",
    "for x in range(n*(-1), n+1):\n",
    "    y = x*x\n",
    "    data= '%d %d\\n' %(x, y)\n",
    "    file.write(data)\n",
    "\n",
    "file.close()"
   ]
  },
  {
   "cell_type": "code",
   "execution_count": 97,
   "metadata": {},
   "outputs": [
    {
     "name": "stdout",
     "output_type": "stream",
     "text": [
      "[-10.0, -9.0, -8.0, -7.0, -6.0, -5.0, -4.0, -3.0, -2.0, -1.0, 0.0, 1.0, 2.0, 3.0, 4.0, 5.0, 6.0, 7.0, 8.0, 9.0, 10.0]\n",
      "[100.0, 81.0, 64.0, 49.0, 36.0, 25.0, 16.0, 9.0, 4.0, 1.0, 0.0, 1.0, 4.0, 9.0, 16.0, 25.0, 36.0, 49.0, 64.0, 81.0, 100.0]\n"
     ]
    },
    {
     "data": {
      "image/png": "[encoded data removed]",
      "text/plain": [
       "<Figure size 432x288 with 1 Axes>"
      ]
     },
     "metadata": {
      "needs_background": "light"
     },
     "output_type": "display_data"
    }
   ],
   "source": [
    "file = open('data.txt', 'r')\n",
    "data = file.read().splitlines()\n",
    "\n",
    "data_x = []\n",
    "data_y = []\n",
    " \n",
    "for i in range(n*2+1):\n",
    "    x,y= data[i].split(' ')\n",
    "    data_x.append(float(x))\n",
    "    data_y.append(float(y))\n",
    "\n",
    "print(data_x)\n",
    "print(data_y)\n",
    "\n",
    "%matplotlib inline\n",
    "from matplotlib import pyplot as plt\n",
    " \n",
    "plt.plot(data_x, data_y)\n",
    "plt.show()"
   ]
  },
  {
   "cell_type": "markdown",
   "metadata": {},
   "source": [
    "### 조건문 필요성\n",
    "\n",
    "#### 프로그래밍에서 조건을 판단하여 해당 조건에 맞는 상황을 수행"
   ]
  },
  {
   "cell_type": "code",
   "execution_count": 129,
   "metadata": {},
   "outputs": [
    {
     "name": "stdout",
     "output_type": "stream",
     "text": [
      "돈 얼마 있어요? 100\n",
      "\n",
      "\n",
      "택시를 타고 가세요\n"
     ]
    }
   ],
   "source": [
    "# \"돈이 있으면 택시를 타고, 돈이 없으면(그렇지 않으면) 걸어 간다.“\n",
    "\n",
    "# If I have money, I take a taxi, if I don't have money, I walk. \n",
    "# (if not ≒ otherwise ≒ else)\n",
    "\n",
    "money_s = input('돈 얼마 있어요 ? ')\n",
    "money_f = float(money_s)\n",
    "\n",
    "print('\\n')\n",
    "\n",
    "if money_f > 0:\n",
    "    print('택시를 타고 가세요')\n",
    "else:\n",
    "    print('걸어 가세요')"
   ]
  },
  {
   "cell_type": "code",
   "execution_count": 134,
   "metadata": {},
   "outputs": [
    {
     "name": "stdout",
     "output_type": "stream",
     "text": [
      "돈 얼마 있어요 ? 1000\n",
      "\n",
      "\n",
      "걸어 가세요\n"
     ]
    }
   ],
   "source": [
    "money_s = input('돈 얼마 있어요 ? ')\n",
    "money_f = float(money_s)\n",
    "\n",
    "print('\\n')\n",
    "\n",
    "if money_f >= 3300:\n",
    "    print(\"택시를 타고 가세요\")\n",
    "elif  (1500 <= money_f) and (money_f <=3300):\n",
    "    print('버스 타세요')\n",
    "else :\n",
    "    print('걸어 가세요')\n"
   ]
  },
  {
   "cell_type": "markdown",
   "metadata": {},
   "source": [
    "### 조건문 응용 학점 구하기\n",
    "\n",
    "#### A :    100 ≥ score ≥ 90\n",
    "#### B :      90 > score ≥ 80\n",
    "#### C :      80 > score ≥ 70\n",
    "#### D :      70 > score ≥ 60\n",
    "#### F :       60 > score ≥ 0"
   ]
  },
  {
   "cell_type": "code",
   "execution_count": 138,
   "metadata": {},
   "outputs": [
    {
     "name": "stdout",
     "output_type": "stream",
     "text": [
      "점수를 입력하세요100\n",
      "\n",
      "\n",
      "A 학점 입니다\n"
     ]
    }
   ],
   "source": [
    "score_s = input('점수를 입력하세요')\n",
    "score_f = float(score_s)\n",
    "\n",
    "print('\\n')\n",
    "\n",
    "if ( 100 >= score_f) and ( score_f >= 90):\n",
    "    print('A 학점 입니다')\n",
    "elif ( 90 >= score_f) and ( score_f >= 80) :\n",
    "    print('')\n",
    "else :\n",
    "    print('')\n"
   ]
  },
  {
   "attachments": {},
   "cell_type": "markdown",
   "metadata": {},
   "source": [
    "### 사칙연산 기호와 두 수 a, b를 입력 받아 연산 수행하시오"
   ]
  },
  {
   "cell_type": "code",
   "execution_count": 181,
   "metadata": {},
   "outputs": [
    {
     "name": "stdout",
     "output_type": "stream",
     "text": [
      "사직연산 기호를 입력 하세요-\n",
      "\n",
      "\n",
      "a를 입력하세요2\n",
      "b를 입력하세요4\n",
      "\n",
      "\n",
      "b - a = 2.0\n"
     ]
    }
   ],
   "source": [
    "mark = input('사직연산 기호를 입력 하세요')\n",
    "\n",
    "print('\\n')\n",
    "\n",
    "a = input('a를 입력하세요')\n",
    "b = input('b를 입력하세요')\n",
    "\n",
    "a = float(a)\n",
    "b = float(b)\n",
    "\n",
    "print('\\n')\n",
    "\n",
    "if  mark == '+' :\n",
    "    print('a + b =', a+b)\n",
    "    \n",
    "elif mark == '*' :\n",
    "    print('a x b =', a*b)\n",
    "    \n",
    "elif mark == '/' :\n",
    "    print('a / b =', a/b)\n",
    "\n",
    "elif mark == '-' :\n",
    "    if(a>=b):\n",
    "        print('a - b =', a-b)\n",
    "    if(a<b):\n",
    "        print('b - a =', b-a)\n"
   ]
  },
  {
   "cell_type": "markdown",
   "metadata": {},
   "source": [
    "### 변수 / 리스트 / numpy(행렬) 연산 속도 비교"
   ]
  },
  {
   "cell_type": "code",
   "execution_count": 210,
   "metadata": {},
   "outputs": [
    {
     "name": "stdout",
     "output_type": "stream",
     "text": [
      "합계 :  5050\n",
      "\n",
      "\n",
      "0.00023627281188964844 sec\n"
     ]
    }
   ],
   "source": [
    "import time\n",
    "\n",
    "n = 10*10\n",
    "#n = 1920*1080\n",
    "\n",
    "total = 0\n",
    "\n",
    "t_0 = time.time()\n",
    "\n",
    "for i in range(1, n+1):\n",
    "    total = total + i    \n",
    "\n",
    "t_1 = time.time()    \n",
    "    \n",
    "print('합계 : ', total)\n",
    "print('\\n')\n",
    "print(t_1- t_0,'sec')"
   ]
  },
  {
   "cell_type": "code",
   "execution_count": 211,
   "metadata": {},
   "outputs": [
    {
     "name": "stdout",
     "output_type": "stream",
     "text": [
      "합계 :  5050\n",
      "\n",
      "\n",
      "0.0002834796905517578 sec\n"
     ]
    }
   ],
   "source": [
    "import time\n",
    "\n",
    "t_0 = time.time()\n",
    "\n",
    "a=list(range(1,n+1))\n",
    "total = sum(a)\n",
    "\n",
    "t_1 = time.time()\n",
    "\n",
    "print('합계 : ', total)\n",
    "print('\\n')\n",
    "print(t_1- t_0,'sec')"
   ]
  },
  {
   "cell_type": "code",
   "execution_count": 212,
   "metadata": {},
   "outputs": [
    {
     "name": "stdout",
     "output_type": "stream",
     "text": [
      "합계 :  5050\n",
      "\n",
      "\n",
      "0.00061798095703125 sec\n"
     ]
    }
   ],
   "source": [
    "import time\n",
    "import numpy\n",
    "\n",
    "t_0 = time.time()\n",
    "\n",
    "a= numpy.arange(1,n+1)\n",
    "total = numpy.sum(a)\n",
    "\n",
    "t_1 = time.time()\n",
    "\n",
    "print('합계 : ', total)\n",
    "print('\\n')\n",
    "print(t_1- t_0,'sec')"
   ]
  },
  {
   "cell_type": "code",
   "execution_count": null,
   "metadata": {},
   "outputs": [],
   "source": []
  }
 ],
 "metadata": {
  "kernelspec": {
   "display_name": "Python [conda env:shared_env_py36]",
   "language": "python",
   "name": "conda-env-shared_env_py36-py"
  },
  "language_info": {
   "codemirror_mode": {
    "name": "ipython",
    "version": 3
   },
   "file_extension": ".py",
   "mimetype": "text/x-python",
   "name": "python",
   "nbconvert_exporter": "python",
   "pygments_lexer": "ipython3",
   "version": "3.6.10"
  }
 },
 "nbformat": 4,
 "nbformat_minor": 4
}
