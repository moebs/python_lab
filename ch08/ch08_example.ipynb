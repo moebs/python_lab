{
 "cells": [
  {
   "cell_type": "markdown",
   "metadata": {},
   "source": [
    "### 반복문 기본 구조"
   ]
  },
  {
   "cell_type": "code",
   "execution_count": 41,
   "metadata": {},
   "outputs": [
    {
     "name": "stdout",
     "output_type": "stream",
     "text": [
      "사랑하는 mother\n",
      "사랑하는 father\n",
      "사랑하는 sister\n"
     ]
    }
   ],
   "source": [
    "family_list = ['mother', 'father', 'sister'] \n",
    "\n",
    "for str_1 in family_list: \n",
    "    print('사랑하는 ', end='')\n",
    "    print(str_1)"
   ]
  },
  {
   "cell_type": "markdown",
   "metadata": {},
   "source": [
    "### 반복문 응용"
   ]
  },
  {
   "cell_type": "code",
   "execution_count": 12,
   "metadata": {},
   "outputs": [
    {
     "name": "stdout",
     "output_type": "stream",
     "text": [
      "합계 :  55\n"
     ]
    }
   ],
   "source": [
    "total = 0 # 변수 초기화\n",
    "\n",
    "for i in range(1, 10+1): \n",
    "    total = total + i    \n",
    "print('합계 : ', total)"
   ]
  },
  {
   "cell_type": "code",
   "execution_count": 16,
   "metadata": {},
   "outputs": [
    {
     "name": "stdout",
     "output_type": "stream",
     "text": [
      "합계를 구할 수를 입력하세요 :100\n",
      "합계 :  5050\n"
     ]
    }
   ],
   "source": [
    "str_1 = input('합계를 구할 수를 입력하세요 :')\n",
    "\n",
    "n = int(str_1)\n",
    "\n",
    "total = 0 # 변수 초기화\n",
    "for i in range(1, n + 1): \n",
    "    total = total + i  \n",
    "print('합계 : ', total)"
   ]
  },
  {
   "cell_type": "markdown",
   "metadata": {},
   "source": [
    "### 이중 루프 필요성"
   ]
  },
  {
   "cell_type": "markdown",
   "metadata": {},
   "source": [
    "### 이중 루프 응용 (구구단)"
   ]
  },
  {
   "cell_type": "code",
   "execution_count": 1,
   "metadata": {},
   "outputs": [
    {
     "ename": "SyntaxError",
     "evalue": "unexpected EOF while parsing (<ipython-input-1-51cb0eecb74a>, line 4)",
     "output_type": "error",
     "traceback": [
      "\u001b[0;36m  File \u001b[0;32m\"<ipython-input-1-51cb0eecb74a>\"\u001b[0;36m, line \u001b[0;32m4\u001b[0m\n\u001b[0;31m    #    print('\\n')\u001b[0m\n\u001b[0m                            ^\u001b[0m\n\u001b[0;31mSyntaxError\u001b[0m\u001b[0;31m:\u001b[0m unexpected EOF while parsing\n"
     ]
    }
   ],
   "source": [
    "for a in range( 2 , 9+1,2):\n",
    "    for b in range( 1 , 9 + 1):\n",
    "    print( a,'x',b,'=', (a*b) )\n",
    "    print('\\n')        "
   ]
  },
  {
   "cell_type": "markdown",
   "metadata": {},
   "source": [
    "### 파일 읽기/쓰기 형식"
   ]
  },
  {
   "cell_type": "code",
   "execution_count": 48,
   "metadata": {},
   "outputs": [
    {
     "name": "stdout",
     "output_type": "stream",
     "text": [
      "/home/moebs/py_ex\r\n"
     ]
    }
   ],
   "source": [
    "!pwd"
   ]
  },
  {
   "cell_type": "code",
   "execution_count": 51,
   "metadata": {},
   "outputs": [],
   "source": [
    "file = open('my_name.txt', 'w')    # 파일을 쓰기 모드(w)로 열기\n",
    "\n",
    "name = file.write('shrek')      # 파일에 문자열 저장\n",
    "name = file.write('\\n')\n",
    "name = file.write('piona')      # 파일에 문자열 저장\n",
    "\n",
    "file.close()                       # 파일 닫기"
   ]
  },
  {
   "cell_type": "code",
   "execution_count": 50,
   "metadata": {},
   "outputs": [
    {
     "name": "stdout",
     "output_type": "stream",
     "text": [
      "Untitled.ipynb\t    deeplearning\t     my_name.txt\r\n",
      "ch06_example.ipynb  multiplicaion_table.txt\r\n"
     ]
    }
   ],
   "source": [
    "!ls"
   ]
  },
  {
   "cell_type": "code",
   "execution_count": 52,
   "metadata": {},
   "outputs": [
    {
     "name": "stdout",
     "output_type": "stream",
     "text": [
      "shrek\r\n",
      "piona"
     ]
    }
   ],
   "source": [
    "!cat my_name.txt"
   ]
  },
  {
   "cell_type": "code",
   "execution_count": 159,
   "metadata": {},
   "outputs": [],
   "source": [
    "file = open('my_name.txt', 'w')    # 파일을 쓰기 모드(w)로 열기\n",
    "\n",
    "name = file.write('shrek')      # 파일에 문자열 저장\n",
    "name = file.write('\\n')\n",
    "name = file.write('piona')      # 파일에 문자열 저장\n",
    "\n",
    "file.close()   "
   ]
  },
  {
   "cell_type": "code",
   "execution_count": 160,
   "metadata": {},
   "outputs": [
    {
     "name": "stdout",
     "output_type": "stream",
     "text": [
      "shrek\r\n",
      "piona"
     ]
    }
   ],
   "source": [
    "!cat my_name.txt"
   ]
  },
  {
   "cell_type": "code",
   "execution_count": 162,
   "metadata": {},
   "outputs": [],
   "source": [
    "file = open('my_name.txt', 'w')    # 파일을 쓰기 모드(w)로 열기\n",
    "\n",
    "name = file.write('shrek\\n')       # 파일에 문자열 저장\n",
    "name = file.write('piona')         # 파일에 문자열 저장\n",
    "\n",
    "file.close()"
   ]
  },
  {
   "cell_type": "code",
   "execution_count": 163,
   "metadata": {},
   "outputs": [
    {
     "name": "stdout",
     "output_type": "stream",
     "text": [
      "shrek\r\n",
      "piona"
     ]
    }
   ],
   "source": [
    "!cat my_name.txt"
   ]
  },
  {
   "cell_type": "code",
   "execution_count": 55,
   "metadata": {},
   "outputs": [],
   "source": [
    "file = open('my_name.txt', 'a')    # 파일을 추가(add) 모드(w)로 열기\n",
    "\n",
    "name = file.write('\\n')\n",
    "name = file.write('olap')      # 파일에 문자열 저장\n",
    "\n",
    "\n",
    "file.close()"
   ]
  },
  {
   "cell_type": "code",
   "execution_count": 56,
   "metadata": {},
   "outputs": [
    {
     "name": "stdout",
     "output_type": "stream",
     "text": [
      "shrek\r\n",
      "pionaolap\r\n",
      "olap"
     ]
    }
   ],
   "source": [
    "!cat my_name.txt"
   ]
  },
  {
   "cell_type": "code",
   "execution_count": 57,
   "metadata": {},
   "outputs": [
    {
     "name": "stdout",
     "output_type": "stream",
     "text": [
      "shrek\n",
      "pionaolap\n",
      "olap\n"
     ]
    }
   ],
   "source": [
    "file = open('my_name.txt', 'r')    # 파일을 읽기 모드(r)로 열기\n",
    "name = file.read()                 # 파일 내용(문자열) 변수(name)저장\n",
    "file.close()                       # 파일 닫기\n",
    "\n",
    "print(name)"
   ]
  },
  {
   "cell_type": "markdown",
   "metadata": {},
   "source": [
    "### 조건문 필요성\n",
    "\n",
    "#### 프로그래밍에서 조건을 판단하여 해당 조건에 맞는 상황을 수행"
   ]
  },
  {
   "cell_type": "code",
   "execution_count": 129,
   "metadata": {},
   "outputs": [
    {
     "name": "stdout",
     "output_type": "stream",
     "text": [
      "돈 얼마 있어요? 100\n",
      "\n",
      "\n",
      "택시를 타고 가세요\n"
     ]
    }
   ],
   "source": [
    "# \"돈이 있으면 택시를 타고, 돈이 없으면(그렇지 않으면) 걸어 간다.“\n",
    "\n",
    "# If I have money, I take a taxi, if I don't have money, I walk. \n",
    "# (if not ≒ otherwise ≒ else)\n",
    "\n",
    "money_s = input('돈 얼마 있어요 ? ')\n",
    "money_f = float(money_s)\n",
    "\n",
    "print('\\n')\n",
    "\n",
    "if money_f > 0:\n",
    "    print('택시를 타고 가세요')\n",
    "else:\n",
    "    print('걸어 가세요')"
   ]
  },
  {
   "cell_type": "code",
   "execution_count": 134,
   "metadata": {},
   "outputs": [
    {
     "name": "stdout",
     "output_type": "stream",
     "text": [
      "돈 얼마 있어요 ? 1000\n",
      "\n",
      "\n",
      "걸어 가세요\n"
     ]
    }
   ],
   "source": [
    "money_s = input('돈 얼마 있어요 ? ')\n",
    "money_f = float(money_s)\n",
    "\n",
    "print('\\n')\n",
    "\n",
    "if money_f >= 3300:\n",
    "    print(\"택시를 타고 가세요\")\n",
    "elif  (1500 <= money_f) and (money_f <=3300):\n",
    "    print('버스 타세요')\n",
    "else :\n",
    "    print('걸어 가세요')\n"
   ]
  },
  {
   "cell_type": "markdown",
   "metadata": {},
   "source": [
    "### 조건문 응용 학점 구하기\n",
    "\n",
    "#### A :    100 ≥ score ≥ 90\n",
    "#### B :      90 > score ≥ 80\n",
    "#### C :      80 > score ≥ 70\n",
    "#### D :      70 > score ≥ 60\n",
    "#### F :       60 > score ≥ 0"
   ]
  },
  {
   "cell_type": "code",
   "execution_count": 138,
   "metadata": {},
   "outputs": [
    {
     "name": "stdout",
     "output_type": "stream",
     "text": [
      "점수를 입력하세요100\n",
      "\n",
      "\n",
      "A 학점 입니다\n"
     ]
    }
   ],
   "source": [
    "score_s = input('점수를 입력하세요')\n",
    "score_f = float(score_s)\n",
    "\n",
    "print('\\n')\n",
    "\n",
    "if ( 100 >= score_f) and ( score_f >= 90):\n",
    "    print('A 학점 입니다')\n",
    "elif ( 90 >= score_f) and ( score_f >= 80) :\n",
    "    print('')\n",
    "else :\n",
    "    print('')\n"
   ]
  },
  {
   "cell_type": "markdown",
   "metadata": {},
   "source": [
    "### 사칙연산 기호와 두 수 a, b를 입력 받아 연산 수행하시오"
   ]
  },
  {
   "cell_type": "code",
   "execution_count": 181,
   "metadata": {},
   "outputs": [
    {
     "name": "stdout",
     "output_type": "stream",
     "text": [
      "사직연산 기호를 입력 하세요-\n",
      "\n",
      "\n",
      "a를 입력하세요2\n",
      "b를 입력하세요4\n",
      "\n",
      "\n",
      "b - a = 2.0\n"
     ]
    }
   ],
   "source": [
    "mark = input('사직연산 기호를 입력 하세요 ')\n",
    "\n",
    "print('\\n')\n",
    "\n",
    "a = input('a를 입력하세요')\n",
    "b = input('b를 입력하세요')\n",
    "\n",
    "a = float(a)\n",
    "b = float(b)\n",
    "\n",
    "print('\\n')\n",
    "\n",
    "if  mark == '+' :\n",
    "    print('a + b =', a+b)\n",
    "    \n",
    "elif mark == '*' :\n",
    "    print('a x b =', a*b)\n",
    "    \n",
    "elif mark == '/' :\n",
    "    print('a / b =', a/b)\n",
    "\n",
    "elif mark == '-' :\n",
    "    if(a>=b):\n",
    "        print('a - b =', a-b)\n",
    "    if(a<b):\n",
    "        print('b - a =', b-a)\n"
   ]
  },
  {
   "cell_type": "code",
   "execution_count": 26,
   "metadata": {},
   "outputs": [],
   "source": [
    "def show(name):\n",
    "    print(name)    "
   ]
  },
  {
   "cell_type": "code",
   "execution_count": 28,
   "metadata": {},
   "outputs": [
    {
     "name": "stdout",
     "output_type": "stream",
     "text": [
      "moebs\n",
      "1\n"
     ]
    }
   ],
   "source": [
    "my_name = 'moebs'\n",
    "a = 1\n",
    "\n",
    "show(my_name)\n",
    "show(a)\n"
   ]
  },
  {
   "cell_type": "code",
   "execution_count": 36,
   "metadata": {},
   "outputs": [],
   "source": [
    "def d_is_10():\n",
    "    d = 10               # 지역변수 (local variable)\n",
    "    print(d)"
   ]
  },
  {
   "cell_type": "code",
   "execution_count": 39,
   "metadata": {},
   "outputs": [
    {
     "name": "stdout",
     "output_type": "stream",
     "text": [
      "10\n"
     ]
    }
   ],
   "source": [
    "d_is_10()"
   ]
  },
  {
   "cell_type": "code",
   "execution_count": 40,
   "metadata": {},
   "outputs": [
    {
     "ename": "NameError",
     "evalue": "name 'd' is not defined",
     "output_type": "error",
     "traceback": [
      "\u001b[0;31m---------------------------------------------------------------------------\u001b[0m",
      "\u001b[0;31mNameError\u001b[0m                                 Traceback (most recent call last)",
      "\u001b[0;32m<ipython-input-40-85549cb1de5f>\u001b[0m in \u001b[0;36m<module>\u001b[0;34m\u001b[0m\n\u001b[0;32m----> 1\u001b[0;31m \u001b[0mprint\u001b[0m\u001b[0;34m(\u001b[0m\u001b[0md\u001b[0m\u001b[0;34m)\u001b[0m\u001b[0;34m\u001b[0m\u001b[0;34m\u001b[0m\u001b[0m\n\u001b[0m",
      "\u001b[0;31mNameError\u001b[0m: name 'd' is not defined"
     ]
    }
   ],
   "source": [
    "print(d)   # 지역변수 (local variable)"
   ]
  },
  {
   "cell_type": "code",
   "execution_count": 58,
   "metadata": {},
   "outputs": [],
   "source": [
    "x = 10                 # 전역변수 (global variable)\n",
    "\n",
    "def printx():\n",
    "    print(x)\n",
    "\n",
    "# 전역변수는 프로그램이 복잡해질수록 컨트롤 어려움. \n",
    "# 다른 엉뚱한 함수 때문에 변수의 값이 바뀌는 상황 발생"
   ]
  },
  {
   "cell_type": "code",
   "execution_count": 59,
   "metadata": {},
   "outputs": [
    {
     "name": "stdout",
     "output_type": "stream",
     "text": [
      "10\n"
     ]
    }
   ],
   "source": [
    "printx()"
   ]
  },
  {
   "cell_type": "code",
   "execution_count": 33,
   "metadata": {},
   "outputs": [],
   "source": [
    "total= 100\n",
    "\n",
    "def f(x):\n",
    "    y = 2*x + 1\n",
    "    return y \n",
    "\n",
    "def plus(x, y):\n",
    "    tatal = x + y \n",
    "    return total\n",
    "\n",
    "def cal(x, y):\n",
    "#    total = x + y\n",
    "    total = plus(x,y)\n",
    "    mul  = x * y \n",
    "    return total, mul"
   ]
  },
  {
   "cell_type": "code",
   "execution_count": 11,
   "metadata": {},
   "outputs": [
    {
     "data": {
      "text/plain": [
       "1"
      ]
     },
     "execution_count": 11,
     "metadata": {},
     "output_type": "execute_result"
    }
   ],
   "source": [
    "f(0)"
   ]
  },
  {
   "cell_type": "code",
   "execution_count": 20,
   "metadata": {},
   "outputs": [
    {
     "data": {
      "text/plain": [
       "1"
      ]
     },
     "execution_count": 20,
     "metadata": {},
     "output_type": "execute_result"
    }
   ],
   "source": [
    "a"
   ]
  },
  {
   "cell_type": "code",
   "execution_count": 12,
   "metadata": {},
   "outputs": [
    {
     "data": {
      "text/plain": [
       "3"
      ]
     },
     "execution_count": 12,
     "metadata": {},
     "output_type": "execute_result"
    }
   ],
   "source": [
    "plus(1,2)"
   ]
  },
  {
   "cell_type": "code",
   "execution_count": 32,
   "metadata": {},
   "outputs": [
    {
     "data": {
      "text/plain": [
       "(3, 2)"
      ]
     },
     "execution_count": 32,
     "metadata": {},
     "output_type": "execute_result"
    }
   ],
   "source": [
    "cal(1,2)"
   ]
  },
  {
   "cell_type": "code",
   "execution_count": 6,
   "metadata": {},
   "outputs": [],
   "source": [
    "def cal_4(a,b,mark) :\n",
    "\n",
    "    if  mark == '+' :\n",
    "        print('a + b =', a+b)\n",
    "    \n",
    "    elif mark == '*' :\n",
    "        print('a x b =', a*b)\n",
    "    \n",
    "    elif mark == '/' :\n",
    "        print('a / b =', a/b)\n",
    "\n",
    "    elif mark == '-' :\n",
    "        if(a>=b):\n",
    "            print('a - b =', a-b)\n",
    "        if(a<b):\n",
    "            print('b - a =', b-a)"
   ]
  },
  {
   "cell_type": "code",
   "execution_count": 8,
   "metadata": {},
   "outputs": [
    {
     "name": "stdout",
     "output_type": "stream",
     "text": [
      "b - a = 1\n"
     ]
    }
   ],
   "source": [
    "cal_4(1,2,-)"
   ]
  },
  {
   "cell_type": "code",
   "execution_count": null,
   "metadata": {},
   "outputs": [],
   "source": []
  }
 ],
 "metadata": {
  "kernelspec": {
   "display_name": "Python [conda env:shared_env_py36]",
   "language": "python",
   "name": "conda-env-shared_env_py36-py"
  },
  "language_info": {
   "codemirror_mode": {
    "name": "ipython",
    "version": 3
   },
   "file_extension": ".py",
   "mimetype": "text/x-python",
   "name": "python",
   "nbconvert_exporter": "python",
   "pygments_lexer": "ipython3",
   "version": "3.6.10"
  }
 },
 "nbformat": 4,
 "nbformat_minor": 4
}
