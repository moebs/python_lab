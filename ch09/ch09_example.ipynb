{
 "cells": [
  {
   "cell_type": "markdown",
   "metadata": {},
   "source": [
    "### 조건문 필요성\n",
    "\n",
    "#### 프로그래밍에서 조건을 판단하여 해당 조건에 맞는 상황을 수행"
   ]
  },
  {
   "cell_type": "code",
   "execution_count": 2,
   "metadata": {},
   "outputs": [
    {
     "name": "stdout",
     "output_type": "stream",
     "text": [
      "돈 얼마 있어요 ? 0\n",
      "\n",
      "\n",
      "걸어 가세요\n"
     ]
    }
   ],
   "source": [
    "# \"돈이 있으면 택시를 타고, 돈이 없으면(그렇지 않으면) 걸어 간다.“\n",
    "\n",
    "# If I have money, I take a taxi, if I don't have money, I walk. \n",
    "# (if not ≒ otherwise ≒ else)\n",
    "\n",
    "money_s = input('돈 얼마 있어요 ? ')\n",
    "money_f = float(money_s)\n",
    "\n",
    "print('\\n')\n",
    "\n",
    "if money_f > 0:\n",
    "    print('택시를 타고 가세요')\n",
    "else:\n",
    "    print('걸어 가세요')"
   ]
  },
  {
   "cell_type": "code",
   "execution_count": 65,
   "metadata": {},
   "outputs": [
    {
     "name": "stdout",
     "output_type": "stream",
     "text": [
      "돈 얼마 있어요 ? 2000\n",
      "\n",
      "\n",
      "버스 타세요\n"
     ]
    }
   ],
   "source": [
    "money_s = input('돈 얼마 있어요 ? ')\n",
    "money_f = float(money_s)\n",
    "\n",
    "print('\\n')\n",
    "\n",
    "if money_f >= 3500:\n",
    "    print(\"택시를 타고 가세요\")\n",
    "elif 1500 <= money_f < 3500:   #  (1500 <= money_f) and (money_f < 3500):\n",
    "    print('버스 타세요')\n",
    "else :\n",
    "    print('걸어 가세요')\n"
   ]
  },
  {
   "cell_type": "markdown",
   "metadata": {},
   "source": [
    "### 중복 조건문"
   ]
  },
  {
   "cell_type": "markdown",
   "metadata": {},
   "source": [
    "### 조건문 응용 학점 구하기\n",
    "\n",
    "#### A :    100 ≥ score ≥ 90\n",
    "#### B :      90 > score ≥ 80\n",
    "#### C :      80 > score ≥ 70\n",
    "#### D :      70 > score ≥ 60\n",
    "#### F :       60 > score ≥ 0"
   ]
  },
  {
   "cell_type": "code",
   "execution_count": 1,
   "metadata": {},
   "outputs": [
    {
     "name": "stdout",
     "output_type": "stream",
     "text": [
      "점수를 입력하세요 87\n",
      "\n",
      "\n",
      "B 학점 입니다\n"
     ]
    }
   ],
   "source": [
    "score_s = input('점수를 입력하세요 ')\n",
    "score_f = float(score_s)\n",
    "\n",
    "print('\\n')\n",
    "\n",
    "if ( 100 >= score_f) and ( score_f >= 90):\n",
    "    print('A 학점 입니다')\n",
    "\n",
    "elif ( 90 >= score_f) and ( score_f >= 80) :\n",
    "    print('B 학점 입니다')\n",
    "\n",
    "elif ( 80 >= score_f) and ( score_f >= 70) :\n",
    "    print('C 학점 입니다')\n",
    "\n",
    "elif ( 70 >= score_f) and ( score_f >= 60) :\n",
    "    print('D 학점 입니다')\n",
    "    \n",
    "else :\n",
    "    print('F 입니다')\n"
   ]
  },
  {
   "cell_type": "markdown",
   "metadata": {},
   "source": [
    "### 함수 정의"
   ]
  },
  {
   "cell_type": "code",
   "execution_count": 3,
   "metadata": {},
   "outputs": [],
   "source": [
    "def show(name):    # def : define\n",
    "    print(name)    "
   ]
  },
  {
   "cell_type": "code",
   "execution_count": 19,
   "metadata": {},
   "outputs": [
    {
     "name": "stdout",
     "output_type": "stream",
     "text": [
      "moebs\n"
     ]
    }
   ],
   "source": [
    "show('moebs')"
   ]
  },
  {
   "cell_type": "code",
   "execution_count": 39,
   "metadata": {},
   "outputs": [],
   "source": [
    "def print_n_times(value, n):\n",
    "    for i in range(n):\n",
    "        print(value) "
   ]
  },
  {
   "cell_type": "code",
   "execution_count": 40,
   "metadata": {},
   "outputs": [
    {
     "name": "stdout",
     "output_type": "stream",
     "text": [
      "*****\n",
      "*****\n",
      "*****\n"
     ]
    }
   ],
   "source": [
    "print_n_times('*****', 3)"
   ]
  },
  {
   "cell_type": "code",
   "execution_count": 41,
   "metadata": {},
   "outputs": [
    {
     "ename": "TypeError",
     "evalue": "print_n_times() missing 1 required positional argument: 'n'",
     "output_type": "error",
     "traceback": [
      "\u001b[0;31m---------------------------------------------------------------------------\u001b[0m",
      "\u001b[0;31mTypeError\u001b[0m                                 Traceback (most recent call last)",
      "\u001b[0;32m<ipython-input-41-e4e1a1380e44>\u001b[0m in \u001b[0;36m<module>\u001b[0;34m\u001b[0m\n\u001b[0;32m----> 1\u001b[0;31m \u001b[0mprint_n_times\u001b[0m\u001b[0;34m(\u001b[0m\u001b[0;34m'*****'\u001b[0m\u001b[0;34m)\u001b[0m\u001b[0;34m\u001b[0m\u001b[0;34m\u001b[0m\u001b[0m\n\u001b[0m",
      "\u001b[0;31mTypeError\u001b[0m: print_n_times() missing 1 required positional argument: 'n'"
     ]
    }
   ],
   "source": [
    "print_n_times('*****')"
   ]
  },
  {
   "cell_type": "code",
   "execution_count": 30,
   "metadata": {},
   "outputs": [
    {
     "ename": "TypeError",
     "evalue": "print_n_times() takes 2 positional arguments but 3 were given",
     "output_type": "error",
     "traceback": [
      "\u001b[0;31m---------------------------------------------------------------------------\u001b[0m",
      "\u001b[0;31mTypeError\u001b[0m                                 Traceback (most recent call last)",
      "\u001b[0;32m<ipython-input-30-4f4ee94db8c7>\u001b[0m in \u001b[0;36m<module>\u001b[0;34m\u001b[0m\n\u001b[0;32m----> 1\u001b[0;31m \u001b[0mprint_n_times\u001b[0m\u001b[0;34m(\u001b[0m\u001b[0;34m'*****'\u001b[0m\u001b[0;34m,\u001b[0m \u001b[0;36m1\u001b[0m\u001b[0;34m,\u001b[0m \u001b[0;36m2\u001b[0m\u001b[0;34m)\u001b[0m\u001b[0;34m\u001b[0m\u001b[0;34m\u001b[0m\u001b[0m\n\u001b[0m",
      "\u001b[0;31mTypeError\u001b[0m: print_n_times() takes 2 positional arguments but 3 were given"
     ]
    }
   ],
   "source": [
    "print_n_times('*****', 1, 2)"
   ]
  },
  {
   "cell_type": "markdown",
   "metadata": {},
   "source": [
    "#### 함수안의 (local)변수와 함수 밖의 (global)변수는 다른 것이다."
   ]
  },
  {
   "cell_type": "code",
   "execution_count": 20,
   "metadata": {},
   "outputs": [],
   "source": [
    "def plus_1_func(z):\n",
    "    z = z + 1               # 지역변수 (local variable) == 함수만의 변수\n",
    "    print('지역변수 출력', z)"
   ]
  },
  {
   "cell_type": "code",
   "execution_count": 21,
   "metadata": {},
   "outputs": [
    {
     "name": "stdout",
     "output_type": "stream",
     "text": [
      "지역변수 출력 2\n"
     ]
    }
   ],
   "source": [
    "plus_1_func(1)"
   ]
  },
  {
   "cell_type": "code",
   "execution_count": 22,
   "metadata": {},
   "outputs": [
    {
     "ename": "NameError",
     "evalue": "name 'z' is not defined",
     "output_type": "error",
     "traceback": [
      "\u001b[0;31m---------------------------------------------------------------------------\u001b[0m",
      "\u001b[0;31mNameError\u001b[0m                                 Traceback (most recent call last)",
      "\u001b[0;32m<ipython-input-22-c01ac3f50fdc>\u001b[0m in \u001b[0;36m<module>\u001b[0;34m\u001b[0m\n\u001b[0;32m----> 1\u001b[0;31m \u001b[0mprint\u001b[0m\u001b[0;34m(\u001b[0m\u001b[0mz\u001b[0m\u001b[0;34m)\u001b[0m\u001b[0;34m\u001b[0m\u001b[0;34m\u001b[0m\u001b[0m\n\u001b[0m",
      "\u001b[0;31mNameError\u001b[0m: name 'z' is not defined"
     ]
    }
   ],
   "source": [
    "print(z)"
   ]
  },
  {
   "cell_type": "code",
   "execution_count": 23,
   "metadata": {},
   "outputs": [
    {
     "name": "stdout",
     "output_type": "stream",
     "text": [
      "1\n"
     ]
    }
   ],
   "source": [
    "one = 1                       # 전역변수 (global variable)\n",
    "\n",
    "print(one)"
   ]
  },
  {
   "cell_type": "code",
   "execution_count": 24,
   "metadata": {},
   "outputs": [
    {
     "name": "stdout",
     "output_type": "stream",
     "text": [
      "지역변수 출력 2\n",
      "1\n"
     ]
    }
   ],
   "source": [
    "plus_1_func(one)\n",
    "\n",
    "print(one)"
   ]
  },
  {
   "cell_type": "code",
   "execution_count": 25,
   "metadata": {},
   "outputs": [],
   "source": [
    "def return_plus_1_func(z):\n",
    "    z = z + 1               # 지역변수 (local variable) == 함수만의 변수\n",
    "    print('지역변수 출력', z)\n",
    "    return z"
   ]
  },
  {
   "cell_type": "code",
   "execution_count": 27,
   "metadata": {},
   "outputs": [
    {
     "name": "stdout",
     "output_type": "stream",
     "text": [
      "지역변수 출력 3\n",
      "2\n",
      "3\n"
     ]
    }
   ],
   "source": [
    "x = 2                        # 전역변수 (global variable)\n",
    "\n",
    "y = return_plus_1_func(x)\n",
    "\n",
    "print('\\n')\n",
    "print(x)\n",
    "print(y)\n",
    "print('\\n')\n",
    "\n",
    "x = return_plus_1_func(x)\n",
    "\n",
    "print(x)"
   ]
  },
  {
   "cell_type": "markdown",
   "metadata": {},
   "source": [
    "#### return 문은 함수 안에서 한 번만 사용한다"
   ]
  },
  {
   "cell_type": "code",
   "execution_count": 56,
   "metadata": {},
   "outputs": [],
   "source": [
    "def add_mul(a,b):\n",
    "    return a+b\n",
    "    return a*b"
   ]
  },
  {
   "cell_type": "code",
   "execution_count": 57,
   "metadata": {},
   "outputs": [
    {
     "ename": "TypeError",
     "evalue": "'int' object is not iterable",
     "output_type": "error",
     "traceback": [
      "\u001b[0;31m---------------------------------------------------------------------------\u001b[0m",
      "\u001b[0;31mTypeError\u001b[0m                                 Traceback (most recent call last)",
      "\u001b[0;32m<ipython-input-57-46e5ef960893>\u001b[0m in \u001b[0;36m<module>\u001b[0;34m\u001b[0m\n\u001b[0;32m----> 1\u001b[0;31m \u001b[0mx\u001b[0m \u001b[0;34m,\u001b[0m \u001b[0my\u001b[0m \u001b[0;34m=\u001b[0m \u001b[0madd_mul\u001b[0m\u001b[0;34m(\u001b[0m\u001b[0;36m1\u001b[0m\u001b[0;34m,\u001b[0m\u001b[0;36m2\u001b[0m\u001b[0;34m)\u001b[0m\u001b[0;34m\u001b[0m\u001b[0;34m\u001b[0m\u001b[0m\n\u001b[0m\u001b[1;32m      2\u001b[0m \u001b[0;34m\u001b[0m\u001b[0m\n\u001b[1;32m      3\u001b[0m \u001b[0mprint\u001b[0m\u001b[0;34m(\u001b[0m\u001b[0mx\u001b[0m\u001b[0;34m)\u001b[0m\u001b[0;34m\u001b[0m\u001b[0;34m\u001b[0m\u001b[0m\n\u001b[1;32m      4\u001b[0m \u001b[0mprint\u001b[0m\u001b[0;34m(\u001b[0m\u001b[0my\u001b[0m\u001b[0;34m)\u001b[0m\u001b[0;34m\u001b[0m\u001b[0;34m\u001b[0m\u001b[0m\n",
      "\u001b[0;31mTypeError\u001b[0m: 'int' object is not iterable"
     ]
    }
   ],
   "source": [
    "x , y = add_mul(1,2)\n",
    "\n",
    "print(x)\n",
    "print(y)  "
   ]
  },
  {
   "cell_type": "code",
   "execution_count": 58,
   "metadata": {},
   "outputs": [],
   "source": [
    "def minus(a,b):\n",
    "    if a >= b :\n",
    "        return a-b\n",
    "    else:\n",
    "        return b-a"
   ]
  },
  {
   "cell_type": "code",
   "execution_count": 59,
   "metadata": {},
   "outputs": [
    {
     "name": "stdout",
     "output_type": "stream",
     "text": [
      "1\n"
     ]
    }
   ],
   "source": [
    "c = minus(1,2)\n",
    "\n",
    "print(c)"
   ]
  },
  {
   "cell_type": "markdown",
   "metadata": {},
   "source": [
    "### 함수 활용"
   ]
  },
  {
   "attachments": {},
   "cell_type": "markdown",
   "metadata": {},
   "source": [
    "#### 일반적 프로그래밍"
   ]
  },
  {
   "cell_type": "code",
   "execution_count": 47,
   "metadata": {},
   "outputs": [
    {
     "name": "stdout",
     "output_type": "stream",
     "text": [
      "+,-,*,/ 중 선택 하세요 :-\n",
      "\n",
      "\n",
      "a를 입력하세요 2\n",
      "b를 입력하세요 4\n",
      "\n",
      "b - a =  2\n"
     ]
    }
   ],
   "source": [
    "mark = input('+,-,*,/ 중 선택 하세요 :')\n",
    "\n",
    "print('\\n')\n",
    "a = int( input('a를 입력하세요 ') )\n",
    "b = int( input('b를 입력하세요 ') )\n",
    "\n",
    "\n",
    "if  mark == '+' :\n",
    "    c= a+b\n",
    "    \n",
    "elif mark == '*' :\n",
    "    c = a*b\n",
    "    \n",
    "elif mark == '/' :\n",
    "    c = a/b\n",
    "\n",
    "elif mark == '-' :\n",
    "    if(a>=b):\n",
    "        c = a-b\n",
    "    if(a<b):\n",
    "        c = b-a\n",
    "\n",
    "if(mark == '-') and (a<b):        \n",
    "    print('\\nb',mark,'a = ',c,)\n",
    "else:\n",
    "    print('\\na',mark,'b = ',c,)"
   ]
  },
  {
   "cell_type": "markdown",
   "metadata": {},
   "source": [
    "#### 함수化"
   ]
  },
  {
   "cell_type": "code",
   "execution_count": 49,
   "metadata": {},
   "outputs": [],
   "source": [
    "def add(x, y):\n",
    "     return x+y\n",
    "    \n",
    "def subtraction(x, y):\n",
    "    if a >= b :\n",
    "        return a-b\n",
    "    else:\n",
    "        return b-a\n",
    "    \n",
    "def mul(x, y):\n",
    "    return x*y\n",
    "\n",
    "def div(x, y):\n",
    "    return x/y"
   ]
  },
  {
   "attachments": {},
   "cell_type": "markdown",
   "metadata": {},
   "source": [
    "#### 모듈化(함수의 함수 ≒ 합성 함수 ≒ cal_4( f(a,b) , mark)≒"
   ]
  },
  {
   "cell_type": "code",
   "execution_count": 50,
   "metadata": {},
   "outputs": [],
   "source": [
    "def cal_4(a,b,mark) :\n",
    "\n",
    "    if  mark == '+' :\n",
    "        c = add(a,b)\n",
    "    \n",
    "    elif mark == '-' :\n",
    "        c = subtraction(a,b)\n",
    "    \n",
    "    elif mark == '*' :\n",
    "        c = mul(a,b)\n",
    "\n",
    "    elif mark == '/' :\n",
    "        c = div(a,b)\n",
    "    \n",
    "    return c            "
   ]
  },
  {
   "cell_type": "code",
   "execution_count": 52,
   "metadata": {},
   "outputs": [
    {
     "data": {
      "text/plain": [
       "2"
      ]
     },
     "execution_count": 52,
     "metadata": {},
     "output_type": "execute_result"
    }
   ],
   "source": [
    "cal_4(1,2,'-')"
   ]
  },
  {
   "cell_type": "code",
   "execution_count": 55,
   "metadata": {},
   "outputs": [
    {
     "name": "stdout",
     "output_type": "stream",
     "text": [
      "55\n"
     ]
    }
   ],
   "source": [
    "total = 0\n",
    "\n",
    "for i in range(1,10+1):\n",
    "    total = add(total, i)\n",
    "    \n",
    "print(total)   "
   ]
  },
  {
   "cell_type": "code",
   "execution_count": 62,
   "metadata": {},
   "outputs": [],
   "source": [
    "def acc_sum(a,b):\n",
    "    \n",
    "    total = 0\n",
    "\n",
    "    for i in range(a,b+1):\n",
    "        total = add(total, i)\n",
    "    \n",
    "    return total"
   ]
  },
  {
   "cell_type": "code",
   "execution_count": 66,
   "metadata": {},
   "outputs": [
    {
     "name": "stdout",
     "output_type": "stream",
     "text": [
      "55\n",
      "55\n"
     ]
    }
   ],
   "source": [
    "c = acc_sum(1,10)\n",
    "\n",
    "print(c)\n",
    "print(acc_sum(1,10))"
   ]
  },
  {
   "cell_type": "code",
   "execution_count": null,
   "metadata": {},
   "outputs": [],
   "source": []
  },
  {
   "cell_type": "code",
   "execution_count": null,
   "metadata": {},
   "outputs": [],
   "source": []
  }
 ],
 "metadata": {
  "kernelspec": {
   "display_name": "Python [conda env:shared_env_py36]",
   "language": "python",
   "name": "conda-env-shared_env_py36-py"
  },
  "language_info": {
   "codemirror_mode": {
    "name": "ipython",
    "version": 3
   },
   "file_extension": ".py",
   "mimetype": "text/x-python",
   "name": "python",
   "nbconvert_exporter": "python",
   "pygments_lexer": "ipython3",
   "version": "3.6.10"
  }
 },
 "nbformat": 4,
 "nbformat_minor": 4
}
